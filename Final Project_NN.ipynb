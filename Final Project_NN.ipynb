{
 "cells": [
  {
   "cell_type": "code",
   "execution_count": 2,
   "id": "5b1b6d86-8472-4eae-8eb5-1c88083fe7a7",
   "metadata": {},
   "outputs": [],
   "source": [
    "import numpy as np\n",
    "import pandas as pd\n",
    "import tensorflow as tf"
   ]
  },
  {
   "cell_type": "markdown",
   "id": "11c0d2ce-fc19-452a-91ff-95cea6611c7c",
   "metadata": {},
   "source": [
    "### 1. Data Loading and Preprocessing"
   ]
  },
  {
   "cell_type": "code",
   "execution_count": 4,
   "id": "50145c8f-e688-43ff-9a8d-b86bf2ee1cac",
   "metadata": {},
   "outputs": [
    {
     "data": {
      "text/html": [
       "<div>\n",
       "<style scoped>\n",
       "    .dataframe tbody tr th:only-of-type {\n",
       "        vertical-align: middle;\n",
       "    }\n",
       "\n",
       "    .dataframe tbody tr th {\n",
       "        vertical-align: top;\n",
       "    }\n",
       "\n",
       "    .dataframe thead th {\n",
       "        text-align: right;\n",
       "    }\n",
       "</style>\n",
       "<table border=\"1\" class=\"dataframe\">\n",
       "  <thead>\n",
       "    <tr style=\"text-align: right;\">\n",
       "      <th></th>\n",
       "      <th>trans_date_trans_time</th>\n",
       "      <th>cc_num</th>\n",
       "      <th>merchant</th>\n",
       "      <th>category</th>\n",
       "      <th>amt</th>\n",
       "      <th>first</th>\n",
       "      <th>last</th>\n",
       "      <th>gender</th>\n",
       "      <th>street</th>\n",
       "      <th>city</th>\n",
       "      <th>...</th>\n",
       "      <th>lat</th>\n",
       "      <th>long</th>\n",
       "      <th>city_pop</th>\n",
       "      <th>job</th>\n",
       "      <th>dob</th>\n",
       "      <th>trans_num</th>\n",
       "      <th>unix_time</th>\n",
       "      <th>merch_lat</th>\n",
       "      <th>merch_long</th>\n",
       "      <th>is_fraud</th>\n",
       "    </tr>\n",
       "  </thead>\n",
       "  <tbody>\n",
       "    <tr>\n",
       "      <th>0</th>\n",
       "      <td>21/06/2020 12:14</td>\n",
       "      <td>2.291160e+15</td>\n",
       "      <td>fraud_Kirlin and Sons</td>\n",
       "      <td>personal_care</td>\n",
       "      <td>2.86</td>\n",
       "      <td>Jeff</td>\n",
       "      <td>Elliott</td>\n",
       "      <td>M</td>\n",
       "      <td>351 Darlene Green</td>\n",
       "      <td>Columbia</td>\n",
       "      <td>...</td>\n",
       "      <td>33.9659</td>\n",
       "      <td>-80.9355</td>\n",
       "      <td>333497</td>\n",
       "      <td>Mechanical engineer</td>\n",
       "      <td>19/03/1968</td>\n",
       "      <td>2da90c7d74bd46a0caf3777415b3ebd3</td>\n",
       "      <td>1371816865</td>\n",
       "      <td>33.986391</td>\n",
       "      <td>-81.200714</td>\n",
       "      <td>0</td>\n",
       "    </tr>\n",
       "    <tr>\n",
       "      <th>1</th>\n",
       "      <td>21/06/2020 12:14</td>\n",
       "      <td>3.573030e+15</td>\n",
       "      <td>fraud_Sporer-Keebler</td>\n",
       "      <td>personal_care</td>\n",
       "      <td>29.84</td>\n",
       "      <td>Joanne</td>\n",
       "      <td>Williams</td>\n",
       "      <td>F</td>\n",
       "      <td>3638 Marsh Union</td>\n",
       "      <td>Altonah</td>\n",
       "      <td>...</td>\n",
       "      <td>40.3207</td>\n",
       "      <td>-110.4360</td>\n",
       "      <td>302</td>\n",
       "      <td>Sales professional, IT</td>\n",
       "      <td>17/01/1990</td>\n",
       "      <td>324cc204407e99f51b0d6ca0055005e7</td>\n",
       "      <td>1371816873</td>\n",
       "      <td>39.450498</td>\n",
       "      <td>-109.960431</td>\n",
       "      <td>0</td>\n",
       "    </tr>\n",
       "    <tr>\n",
       "      <th>2</th>\n",
       "      <td>21/06/2020 12:14</td>\n",
       "      <td>3.598220e+15</td>\n",
       "      <td>fraud_Swaniawski, Nitzsche and Welch</td>\n",
       "      <td>health_fitness</td>\n",
       "      <td>41.28</td>\n",
       "      <td>Ashley</td>\n",
       "      <td>Lopez</td>\n",
       "      <td>F</td>\n",
       "      <td>9333 Valentine Point</td>\n",
       "      <td>Bellmore</td>\n",
       "      <td>...</td>\n",
       "      <td>40.6729</td>\n",
       "      <td>-73.5365</td>\n",
       "      <td>34496</td>\n",
       "      <td>Librarian, public</td>\n",
       "      <td>21/10/1970</td>\n",
       "      <td>c81755dbbbea9d5c77f094348a7579be</td>\n",
       "      <td>1371816893</td>\n",
       "      <td>40.495810</td>\n",
       "      <td>-74.196111</td>\n",
       "      <td>0</td>\n",
       "    </tr>\n",
       "  </tbody>\n",
       "</table>\n",
       "<p>3 rows × 22 columns</p>\n",
       "</div>"
      ],
      "text/plain": [
       "  trans_date_trans_time        cc_num                              merchant  \\\n",
       "0      21/06/2020 12:14  2.291160e+15                 fraud_Kirlin and Sons   \n",
       "1      21/06/2020 12:14  3.573030e+15                  fraud_Sporer-Keebler   \n",
       "2      21/06/2020 12:14  3.598220e+15  fraud_Swaniawski, Nitzsche and Welch   \n",
       "\n",
       "         category    amt   first      last gender                street  \\\n",
       "0   personal_care   2.86    Jeff   Elliott      M     351 Darlene Green   \n",
       "1   personal_care  29.84  Joanne  Williams      F      3638 Marsh Union   \n",
       "2  health_fitness  41.28  Ashley     Lopez      F  9333 Valentine Point   \n",
       "\n",
       "       city  ...      lat      long  city_pop                     job  \\\n",
       "0  Columbia  ...  33.9659  -80.9355    333497     Mechanical engineer   \n",
       "1   Altonah  ...  40.3207 -110.4360       302  Sales professional, IT   \n",
       "2  Bellmore  ...  40.6729  -73.5365     34496       Librarian, public   \n",
       "\n",
       "          dob                         trans_num   unix_time  merch_lat  \\\n",
       "0  19/03/1968  2da90c7d74bd46a0caf3777415b3ebd3  1371816865  33.986391   \n",
       "1  17/01/1990  324cc204407e99f51b0d6ca0055005e7  1371816873  39.450498   \n",
       "2  21/10/1970  c81755dbbbea9d5c77f094348a7579be  1371816893  40.495810   \n",
       "\n",
       "   merch_long  is_fraud  \n",
       "0  -81.200714         0  \n",
       "1 -109.960431         0  \n",
       "2  -74.196111         0  \n",
       "\n",
       "[3 rows x 22 columns]"
      ]
     },
     "execution_count": 4,
     "metadata": {},
     "output_type": "execute_result"
    }
   ],
   "source": [
    "data = pd.read_csv('fraud.csv')\n",
    "data.drop(columns='Unnamed: 0', inplace=True)\n",
    "data.head(3)"
   ]
  },
  {
   "cell_type": "code",
   "execution_count": 5,
   "id": "96f661c6-f242-4001-b26a-d3e12bedb2a6",
   "metadata": {},
   "outputs": [
    {
     "data": {
      "text/plain": [
       "(555719, 22)"
      ]
     },
     "execution_count": 5,
     "metadata": {},
     "output_type": "execute_result"
    }
   ],
   "source": [
    "data.shape"
   ]
  },
  {
   "cell_type": "code",
   "execution_count": 6,
   "id": "be788b21-7701-403f-a900-6fb144fb0001",
   "metadata": {},
   "outputs": [
    {
     "name": "stdout",
     "output_type": "stream",
     "text": [
      "<class 'pandas.core.frame.DataFrame'>\n",
      "RangeIndex: 555719 entries, 0 to 555718\n",
      "Data columns (total 22 columns):\n",
      " #   Column                 Non-Null Count   Dtype  \n",
      "---  ------                 --------------   -----  \n",
      " 0   trans_date_trans_time  555719 non-null  object \n",
      " 1   cc_num                 555719 non-null  float64\n",
      " 2   merchant               555719 non-null  object \n",
      " 3   category               555719 non-null  object \n",
      " 4   amt                    555719 non-null  float64\n",
      " 5   first                  555719 non-null  object \n",
      " 6   last                   555719 non-null  object \n",
      " 7   gender                 555719 non-null  object \n",
      " 8   street                 555719 non-null  object \n",
      " 9   city                   555719 non-null  object \n",
      " 10  state                  555719 non-null  object \n",
      " 11  zip                    555719 non-null  int64  \n",
      " 12  lat                    555719 non-null  float64\n",
      " 13  long                   555719 non-null  float64\n",
      " 14  city_pop               555719 non-null  int64  \n",
      " 15  job                    555719 non-null  object \n",
      " 16  dob                    555719 non-null  object \n",
      " 17  trans_num              555719 non-null  object \n",
      " 18  unix_time              555719 non-null  int64  \n",
      " 19  merch_lat              555719 non-null  float64\n",
      " 20  merch_long             555719 non-null  float64\n",
      " 21  is_fraud               555719 non-null  int64  \n",
      "dtypes: float64(6), int64(4), object(12)\n",
      "memory usage: 93.3+ MB\n"
     ]
    }
   ],
   "source": [
    "data.info()"
   ]
  },
  {
   "cell_type": "code",
   "execution_count": 7,
   "id": "70cb4d61-bf9f-4f1e-8daa-1cec65726d6b",
   "metadata": {},
   "outputs": [
    {
     "data": {
      "text/plain": [
       "is_fraud\n",
       "0    553574\n",
       "1      2145\n",
       "Name: count, dtype: int64"
      ]
     },
     "execution_count": 7,
     "metadata": {},
     "output_type": "execute_result"
    }
   ],
   "source": [
    "data['is_fraud'].value_counts()"
   ]
  },
  {
   "cell_type": "raw",
   "id": "08dc0377-a6a2-466a-83f4-b969f83f4356",
   "metadata": {},
   "source": [
    "Fraud cases account for only 0.4% of the data, making it a highly imbalanced dataset."
   ]
  },
  {
   "cell_type": "code",
   "execution_count": 8,
   "id": "c80accf3-ad1f-40ca-832d-a4ec16e19ccf",
   "metadata": {},
   "outputs": [
    {
     "data": {
      "text/plain": [
       "\"\\ndate_time = pd.to_datetime(data['trans_date_trans_time'], format='%d/%m/%Y %H:%M')\\n\\ndata['trans_date'] = date_time.dt.date[0]\\ndata['trans_time'] = date_time.dt.time[0]\\n\""
      ]
     },
     "execution_count": 8,
     "metadata": {},
     "output_type": "execute_result"
    }
   ],
   "source": [
    "# convert transaction time into seperate columns\n",
    "'''\n",
    "date_time = pd.to_datetime(data['trans_date_trans_time'], format='%d/%m/%Y %H:%M')\n",
    "\n",
    "data['trans_date'] = date_time.dt.date[0]\n",
    "data['trans_time'] = date_time.dt.time[0]\n",
    "'''"
   ]
  },
  {
   "cell_type": "code",
   "execution_count": 9,
   "id": "cfbb90a5-decc-462b-ae03-b4e9d7f04b52",
   "metadata": {},
   "outputs": [],
   "source": [
    "# Extract useful numeric features\n",
    "date_time = pd.to_datetime(data['trans_date_trans_time'], format='%d/%m/%Y %H:%M')\n",
    "\n",
    "data['year'] = date_time.dt.year\n",
    "data['month'] = date_time.dt.month\n",
    "data['day'] = date_time.dt.day\n",
    "data['hour'] = date_time.dt.hour\n",
    "data['minute'] = date_time.dt.minute"
   ]
  },
  {
   "cell_type": "code",
   "execution_count": 10,
   "id": "6aa3eee2-615d-4d4e-b4cc-df5af70b2f7a",
   "metadata": {},
   "outputs": [],
   "source": [
    "# convert date of birth to age\n",
    "from datetime import datetime\n",
    "data['dob'] = pd.to_datetime(data['dob'], dayfirst = True)\n",
    "current_date = datetime.now()\n",
    "data['age'] = (current_date - data['dob']).dt.days // 365"
   ]
  },
  {
   "cell_type": "code",
   "execution_count": 11,
   "id": "0c62e394-7bf0-4fcc-b7f6-a72ea31f5a1d",
   "metadata": {},
   "outputs": [],
   "source": [
    "data.drop(columns=['trans_date_trans_time', 'cc_num', 'first', 'last', 'street', 'city_pop', 'dob', 'trans_num'], inplace=True)"
   ]
  },
  {
   "cell_type": "code",
   "execution_count": 12,
   "id": "dd93397b-4262-418c-8de4-adeba04fe568",
   "metadata": {},
   "outputs": [
    {
     "data": {
      "text/html": [
       "<div>\n",
       "<style scoped>\n",
       "    .dataframe tbody tr th:only-of-type {\n",
       "        vertical-align: middle;\n",
       "    }\n",
       "\n",
       "    .dataframe tbody tr th {\n",
       "        vertical-align: top;\n",
       "    }\n",
       "\n",
       "    .dataframe thead th {\n",
       "        text-align: right;\n",
       "    }\n",
       "</style>\n",
       "<table border=\"1\" class=\"dataframe\">\n",
       "  <thead>\n",
       "    <tr style=\"text-align: right;\">\n",
       "      <th></th>\n",
       "      <th>merchant</th>\n",
       "      <th>category</th>\n",
       "      <th>amt</th>\n",
       "      <th>gender</th>\n",
       "      <th>city</th>\n",
       "      <th>state</th>\n",
       "      <th>zip</th>\n",
       "      <th>lat</th>\n",
       "      <th>long</th>\n",
       "      <th>job</th>\n",
       "      <th>unix_time</th>\n",
       "      <th>merch_lat</th>\n",
       "      <th>merch_long</th>\n",
       "      <th>is_fraud</th>\n",
       "      <th>year</th>\n",
       "      <th>month</th>\n",
       "      <th>day</th>\n",
       "      <th>hour</th>\n",
       "      <th>minute</th>\n",
       "      <th>age</th>\n",
       "    </tr>\n",
       "  </thead>\n",
       "  <tbody>\n",
       "    <tr>\n",
       "      <th>0</th>\n",
       "      <td>fraud_Kirlin and Sons</td>\n",
       "      <td>personal_care</td>\n",
       "      <td>2.86</td>\n",
       "      <td>M</td>\n",
       "      <td>Columbia</td>\n",
       "      <td>SC</td>\n",
       "      <td>29209</td>\n",
       "      <td>33.9659</td>\n",
       "      <td>-80.9355</td>\n",
       "      <td>Mechanical engineer</td>\n",
       "      <td>1371816865</td>\n",
       "      <td>33.986391</td>\n",
       "      <td>-81.200714</td>\n",
       "      <td>0</td>\n",
       "      <td>2020</td>\n",
       "      <td>6</td>\n",
       "      <td>21</td>\n",
       "      <td>12</td>\n",
       "      <td>14</td>\n",
       "      <td>57</td>\n",
       "    </tr>\n",
       "    <tr>\n",
       "      <th>1</th>\n",
       "      <td>fraud_Sporer-Keebler</td>\n",
       "      <td>personal_care</td>\n",
       "      <td>29.84</td>\n",
       "      <td>F</td>\n",
       "      <td>Altonah</td>\n",
       "      <td>UT</td>\n",
       "      <td>84002</td>\n",
       "      <td>40.3207</td>\n",
       "      <td>-110.4360</td>\n",
       "      <td>Sales professional, IT</td>\n",
       "      <td>1371816873</td>\n",
       "      <td>39.450498</td>\n",
       "      <td>-109.960431</td>\n",
       "      <td>0</td>\n",
       "      <td>2020</td>\n",
       "      <td>6</td>\n",
       "      <td>21</td>\n",
       "      <td>12</td>\n",
       "      <td>14</td>\n",
       "      <td>35</td>\n",
       "    </tr>\n",
       "    <tr>\n",
       "      <th>2</th>\n",
       "      <td>fraud_Swaniawski, Nitzsche and Welch</td>\n",
       "      <td>health_fitness</td>\n",
       "      <td>41.28</td>\n",
       "      <td>F</td>\n",
       "      <td>Bellmore</td>\n",
       "      <td>NY</td>\n",
       "      <td>11710</td>\n",
       "      <td>40.6729</td>\n",
       "      <td>-73.5365</td>\n",
       "      <td>Librarian, public</td>\n",
       "      <td>1371816893</td>\n",
       "      <td>40.495810</td>\n",
       "      <td>-74.196111</td>\n",
       "      <td>0</td>\n",
       "      <td>2020</td>\n",
       "      <td>6</td>\n",
       "      <td>21</td>\n",
       "      <td>12</td>\n",
       "      <td>14</td>\n",
       "      <td>54</td>\n",
       "    </tr>\n",
       "  </tbody>\n",
       "</table>\n",
       "</div>"
      ],
      "text/plain": [
       "                               merchant        category    amt gender  \\\n",
       "0                 fraud_Kirlin and Sons   personal_care   2.86      M   \n",
       "1                  fraud_Sporer-Keebler   personal_care  29.84      F   \n",
       "2  fraud_Swaniawski, Nitzsche and Welch  health_fitness  41.28      F   \n",
       "\n",
       "       city state    zip      lat      long                     job  \\\n",
       "0  Columbia    SC  29209  33.9659  -80.9355     Mechanical engineer   \n",
       "1   Altonah    UT  84002  40.3207 -110.4360  Sales professional, IT   \n",
       "2  Bellmore    NY  11710  40.6729  -73.5365       Librarian, public   \n",
       "\n",
       "    unix_time  merch_lat  merch_long  is_fraud  year  month  day  hour  \\\n",
       "0  1371816865  33.986391  -81.200714         0  2020      6   21    12   \n",
       "1  1371816873  39.450498 -109.960431         0  2020      6   21    12   \n",
       "2  1371816893  40.495810  -74.196111         0  2020      6   21    12   \n",
       "\n",
       "   minute  age  \n",
       "0      14   57  \n",
       "1      14   35  \n",
       "2      14   54  "
      ]
     },
     "execution_count": 12,
     "metadata": {},
     "output_type": "execute_result"
    }
   ],
   "source": [
    "data.head(3)"
   ]
  },
  {
   "cell_type": "code",
   "execution_count": 13,
   "id": "9cd8f47f-72f0-434a-83e7-04e7365a3f77",
   "metadata": {},
   "outputs": [
    {
     "data": {
      "text/plain": [
       "(555719, 20)"
      ]
     },
     "execution_count": 13,
     "metadata": {},
     "output_type": "execute_result"
    }
   ],
   "source": [
    "data.shape"
   ]
  },
  {
   "cell_type": "code",
   "execution_count": 14,
   "id": "7d50e125-716b-4ca6-a182-002f480bd41a",
   "metadata": {},
   "outputs": [],
   "source": [
    "# encoding\n",
    "data['gender'] = data['gender'].map({'M': 0, 'F': 1})"
   ]
  },
  {
   "cell_type": "code",
   "execution_count": 15,
   "id": "8652a422-7ecf-4489-9255-4a92911e71b4",
   "metadata": {},
   "outputs": [],
   "source": [
    "# List of categorical columns you want to frequency encode\n",
    "cat_cols = ['merchant', 'category', 'city', 'state', 'job']\n",
    "\n",
    "# Loop through each column and apply frequency encoding\n",
    "for col in cat_cols:\n",
    "    freq_map = data[col].value_counts()\n",
    "    data[col + '_freq'] = data[col].map(freq_map)"
   ]
  },
  {
   "cell_type": "code",
   "execution_count": 16,
   "id": "fee3c86e-988e-40bf-a201-1b59958e52d9",
   "metadata": {},
   "outputs": [],
   "source": [
    "data.drop(columns=['merchant', 'category', 'city', 'state', 'job'], inplace=True)"
   ]
  },
  {
   "cell_type": "code",
   "execution_count": 17,
   "id": "a58a8c57-908f-4a71-9761-bca07123ac02",
   "metadata": {},
   "outputs": [
    {
     "data": {
      "text/html": [
       "<div>\n",
       "<style scoped>\n",
       "    .dataframe tbody tr th:only-of-type {\n",
       "        vertical-align: middle;\n",
       "    }\n",
       "\n",
       "    .dataframe tbody tr th {\n",
       "        vertical-align: top;\n",
       "    }\n",
       "\n",
       "    .dataframe thead th {\n",
       "        text-align: right;\n",
       "    }\n",
       "</style>\n",
       "<table border=\"1\" class=\"dataframe\">\n",
       "  <thead>\n",
       "    <tr style=\"text-align: right;\">\n",
       "      <th></th>\n",
       "      <th>amt</th>\n",
       "      <th>gender</th>\n",
       "      <th>zip</th>\n",
       "      <th>lat</th>\n",
       "      <th>long</th>\n",
       "      <th>unix_time</th>\n",
       "      <th>merch_lat</th>\n",
       "      <th>merch_long</th>\n",
       "      <th>is_fraud</th>\n",
       "      <th>year</th>\n",
       "      <th>month</th>\n",
       "      <th>day</th>\n",
       "      <th>hour</th>\n",
       "      <th>minute</th>\n",
       "      <th>age</th>\n",
       "      <th>merchant_freq</th>\n",
       "      <th>category_freq</th>\n",
       "      <th>city_freq</th>\n",
       "      <th>state_freq</th>\n",
       "      <th>job_freq</th>\n",
       "    </tr>\n",
       "  </thead>\n",
       "  <tbody>\n",
       "    <tr>\n",
       "      <th>0</th>\n",
       "      <td>2.86</td>\n",
       "      <td>0</td>\n",
       "      <td>29209</td>\n",
       "      <td>33.9659</td>\n",
       "      <td>-80.9355</td>\n",
       "      <td>1371816865</td>\n",
       "      <td>33.986391</td>\n",
       "      <td>-81.200714</td>\n",
       "      <td>0</td>\n",
       "      <td>2020</td>\n",
       "      <td>6</td>\n",
       "      <td>21</td>\n",
       "      <td>12</td>\n",
       "      <td>14</td>\n",
       "      <td>57</td>\n",
       "      <td>736</td>\n",
       "      <td>39327</td>\n",
       "      <td>640</td>\n",
       "      <td>12541</td>\n",
       "      <td>2430</td>\n",
       "    </tr>\n",
       "    <tr>\n",
       "      <th>1</th>\n",
       "      <td>29.84</td>\n",
       "      <td>1</td>\n",
       "      <td>84002</td>\n",
       "      <td>40.3207</td>\n",
       "      <td>-110.4360</td>\n",
       "      <td>1371816873</td>\n",
       "      <td>39.450498</td>\n",
       "      <td>-109.960431</td>\n",
       "      <td>0</td>\n",
       "      <td>2020</td>\n",
       "      <td>6</td>\n",
       "      <td>21</td>\n",
       "      <td>12</td>\n",
       "      <td>14</td>\n",
       "      <td>35</td>\n",
       "      <td>785</td>\n",
       "      <td>39327</td>\n",
       "      <td>837</td>\n",
       "      <td>4658</td>\n",
       "      <td>2535</td>\n",
       "    </tr>\n",
       "    <tr>\n",
       "      <th>2</th>\n",
       "      <td>41.28</td>\n",
       "      <td>1</td>\n",
       "      <td>11710</td>\n",
       "      <td>40.6729</td>\n",
       "      <td>-73.5365</td>\n",
       "      <td>1371816893</td>\n",
       "      <td>40.495810</td>\n",
       "      <td>-74.196111</td>\n",
       "      <td>0</td>\n",
       "      <td>2020</td>\n",
       "      <td>6</td>\n",
       "      <td>21</td>\n",
       "      <td>12</td>\n",
       "      <td>14</td>\n",
       "      <td>54</td>\n",
       "      <td>755</td>\n",
       "      <td>36674</td>\n",
       "      <td>1073</td>\n",
       "      <td>35918</td>\n",
       "      <td>2587</td>\n",
       "    </tr>\n",
       "  </tbody>\n",
       "</table>\n",
       "</div>"
      ],
      "text/plain": [
       "     amt  gender    zip      lat      long   unix_time  merch_lat  merch_long  \\\n",
       "0   2.86       0  29209  33.9659  -80.9355  1371816865  33.986391  -81.200714   \n",
       "1  29.84       1  84002  40.3207 -110.4360  1371816873  39.450498 -109.960431   \n",
       "2  41.28       1  11710  40.6729  -73.5365  1371816893  40.495810  -74.196111   \n",
       "\n",
       "   is_fraud  year  month  day  hour  minute  age  merchant_freq  \\\n",
       "0         0  2020      6   21    12      14   57            736   \n",
       "1         0  2020      6   21    12      14   35            785   \n",
       "2         0  2020      6   21    12      14   54            755   \n",
       "\n",
       "   category_freq  city_freq  state_freq  job_freq  \n",
       "0          39327        640       12541      2430  \n",
       "1          39327        837        4658      2535  \n",
       "2          36674       1073       35918      2587  "
      ]
     },
     "execution_count": 17,
     "metadata": {},
     "output_type": "execute_result"
    }
   ],
   "source": [
    "data.head(3)"
   ]
  },
  {
   "cell_type": "code",
   "execution_count": 18,
   "id": "b9fd6c4d-ba18-4c8a-9a7d-2f09b75fc12a",
   "metadata": {},
   "outputs": [
    {
     "data": {
      "text/plain": [
       "(555719, 20)"
      ]
     },
     "execution_count": 18,
     "metadata": {},
     "output_type": "execute_result"
    }
   ],
   "source": [
    "data.shape"
   ]
  },
  {
   "cell_type": "markdown",
   "id": "13230059-05ae-4a98-9894-123555ddc980",
   "metadata": {},
   "source": [
    "### 3. Model Building and Evaluation"
   ]
  },
  {
   "cell_type": "code",
   "execution_count": 20,
   "id": "ea180279-1a3d-41fb-8b41-4e30e636c1fa",
   "metadata": {},
   "outputs": [],
   "source": [
    "from sklearn.model_selection import train_test_split\n",
    "from sklearn.impute import SimpleImputer\n",
    "from sklearn.compose import ColumnTransformer\n",
    "from sklearn.preprocessing import OrdinalEncoder\n",
    "from sklearn.pipeline import Pipeline, make_pipeline"
   ]
  },
  {
   "cell_type": "code",
   "execution_count": 21,
   "id": "579edc50-a2b7-47b4-807b-2b3130533e91",
   "metadata": {},
   "outputs": [],
   "source": [
    "# split the data into train and test sets\n",
    "\n",
    "X = data.drop('is_fraud', axis=1)\n",
    "y = data['is_fraud']\n",
    "\n",
    "X_train, X_test, y_train, y_test = train_test_split(X, y, test_size=0.2, random_state=42)"
   ]
  },
  {
   "cell_type": "code",
   "execution_count": 22,
   "id": "59f3eb23-c545-4dfc-9e53-192447267944",
   "metadata": {},
   "outputs": [
    {
     "data": {
      "text/html": [
       "<div>\n",
       "<style scoped>\n",
       "    .dataframe tbody tr th:only-of-type {\n",
       "        vertical-align: middle;\n",
       "    }\n",
       "\n",
       "    .dataframe tbody tr th {\n",
       "        vertical-align: top;\n",
       "    }\n",
       "\n",
       "    .dataframe thead th {\n",
       "        text-align: right;\n",
       "    }\n",
       "</style>\n",
       "<table border=\"1\" class=\"dataframe\">\n",
       "  <thead>\n",
       "    <tr style=\"text-align: right;\">\n",
       "      <th></th>\n",
       "      <th>amt</th>\n",
       "      <th>gender</th>\n",
       "      <th>zip</th>\n",
       "      <th>lat</th>\n",
       "      <th>long</th>\n",
       "      <th>unix_time</th>\n",
       "      <th>merch_lat</th>\n",
       "      <th>merch_long</th>\n",
       "      <th>year</th>\n",
       "      <th>month</th>\n",
       "      <th>day</th>\n",
       "      <th>hour</th>\n",
       "      <th>minute</th>\n",
       "      <th>age</th>\n",
       "      <th>merchant_freq</th>\n",
       "      <th>category_freq</th>\n",
       "      <th>city_freq</th>\n",
       "      <th>state_freq</th>\n",
       "      <th>job_freq</th>\n",
       "    </tr>\n",
       "  </thead>\n",
       "  <tbody>\n",
       "    <tr>\n",
       "      <th>139526</th>\n",
       "      <td>61.74</td>\n",
       "      <td>0</td>\n",
       "      <td>20012</td>\n",
       "      <td>38.9757</td>\n",
       "      <td>-77.0282</td>\n",
       "      <td>1376047844</td>\n",
       "      <td>38.368797</td>\n",
       "      <td>-76.170115</td>\n",
       "      <td>2020</td>\n",
       "      <td>8</td>\n",
       "      <td>9</td>\n",
       "      <td>11</td>\n",
       "      <td>30</td>\n",
       "      <td>54</td>\n",
       "      <td>1118</td>\n",
       "      <td>56370</td>\n",
       "      <td>1517</td>\n",
       "      <td>1517</td>\n",
       "      <td>1098</td>\n",
       "    </tr>\n",
       "    <tr>\n",
       "      <th>395747</th>\n",
       "      <td>186.93</td>\n",
       "      <td>1</td>\n",
       "      <td>29911</td>\n",
       "      <td>32.9413</td>\n",
       "      <td>-81.1807</td>\n",
       "      <td>1385219474</td>\n",
       "      <td>32.342834</td>\n",
       "      <td>-81.123567</td>\n",
       "      <td>2020</td>\n",
       "      <td>11</td>\n",
       "      <td>23</td>\n",
       "      <td>15</td>\n",
       "      <td>11</td>\n",
       "      <td>50</td>\n",
       "      <td>703</td>\n",
       "      <td>34574</td>\n",
       "      <td>1151</td>\n",
       "      <td>12541</td>\n",
       "      <td>1971</td>\n",
       "    </tr>\n",
       "    <tr>\n",
       "      <th>395119</th>\n",
       "      <td>127.61</td>\n",
       "      <td>0</td>\n",
       "      <td>86018</td>\n",
       "      <td>35.2563</td>\n",
       "      <td>-111.9500</td>\n",
       "      <td>1385204770</td>\n",
       "      <td>36.255327</td>\n",
       "      <td>-112.176851</td>\n",
       "      <td>2020</td>\n",
       "      <td>11</td>\n",
       "      <td>23</td>\n",
       "      <td>11</td>\n",
       "      <td>6</td>\n",
       "      <td>68</td>\n",
       "      <td>1101</td>\n",
       "      <td>52553</td>\n",
       "      <td>414</td>\n",
       "      <td>4592</td>\n",
       "      <td>1272</td>\n",
       "    </tr>\n",
       "  </tbody>\n",
       "</table>\n",
       "</div>"
      ],
      "text/plain": [
       "           amt  gender    zip      lat      long   unix_time  merch_lat  \\\n",
       "139526   61.74       0  20012  38.9757  -77.0282  1376047844  38.368797   \n",
       "395747  186.93       1  29911  32.9413  -81.1807  1385219474  32.342834   \n",
       "395119  127.61       0  86018  35.2563 -111.9500  1385204770  36.255327   \n",
       "\n",
       "        merch_long  year  month  day  hour  minute  age  merchant_freq  \\\n",
       "139526  -76.170115  2020      8    9    11      30   54           1118   \n",
       "395747  -81.123567  2020     11   23    15      11   50            703   \n",
       "395119 -112.176851  2020     11   23    11       6   68           1101   \n",
       "\n",
       "        category_freq  city_freq  state_freq  job_freq  \n",
       "139526          56370       1517        1517      1098  \n",
       "395747          34574       1151       12541      1971  \n",
       "395119          52553        414        4592      1272  "
      ]
     },
     "execution_count": 22,
     "metadata": {},
     "output_type": "execute_result"
    }
   ],
   "source": [
    "X_train.head(3)"
   ]
  },
  {
   "cell_type": "code",
   "execution_count": 23,
   "id": "2de2630e-339b-4858-b778-580655f0163d",
   "metadata": {},
   "outputs": [],
   "source": [
    "# handle imbalancing\n",
    "from imblearn.over_sampling import SMOTE\n",
    "\n",
    "smote = SMOTE(random_state=42)\n",
    "\n",
    "# apply SMOTE to training data only\n",
    "X_train_resampled, y_train_resampled = smote.fit_resample(X_train, y_train)"
   ]
  },
  {
   "cell_type": "markdown",
   "id": "91534211-eab2-4394-9ad4-64b0a16aa578",
   "metadata": {},
   "source": [
    "##### Feedforward Neural Network"
   ]
  },
  {
   "cell_type": "code",
   "execution_count": 25,
   "id": "2a5659d5-0348-4e6a-98e3-3ae9590c84c6",
   "metadata": {},
   "outputs": [],
   "source": [
    "from sklearn.model_selection import cross_val_score\n",
    "from sklearn.metrics import precision_score, recall_score\n",
    "from sklearn.metrics import f1_score"
   ]
  },
  {
   "cell_type": "code",
   "execution_count": 26,
   "id": "4c46ec4b-c37e-4ff7-90a9-9da993a40404",
   "metadata": {},
   "outputs": [],
   "source": [
    "from sklearn.preprocessing import StandardScaler\n",
    "\n",
    "scaler = StandardScaler()\n",
    "X_train_scaled = scaler.fit_transform(X_train_resampled)\n",
    "X_test_scaled = scaler.transform(X_test)"
   ]
  },
  {
   "cell_type": "code",
   "execution_count": 27,
   "id": "aed17725-244c-4d70-abef-d519ea8529bb",
   "metadata": {},
   "outputs": [
    {
     "name": "stderr",
     "output_type": "stream",
     "text": [
      "C:\\Users\\wyu30\\AppData\\Roaming\\Python\\Python310\\site-packages\\keras\\src\\layers\\core\\dense.py:93: UserWarning: Do not pass an `input_shape`/`input_dim` argument to a layer. When using Sequential models, prefer using an `Input(shape)` object as the first layer in the model instead.\n",
      "  super().__init__(activity_regularizer=activity_regularizer, **kwargs)\n"
     ]
    }
   ],
   "source": [
    "# Build the Neural Network (using Keras)\n",
    "from tensorflow.keras.models import Sequential\n",
    "from tensorflow.keras.layers import Dense, Dropout\n",
    "from tensorflow.keras.optimizers import Adam\n",
    "\n",
    "model = Sequential([\n",
    "    Dense(64, activation='relu', input_shape=(X_train_scaled.shape[1],)),\n",
    "    Dropout(0.3),\n",
    "    Dense(32, activation='relu'),\n",
    "    Dropout(0.3),\n",
    "    Dense(1, activation='sigmoid')  # For binary classification\n",
    "])\n",
    "\n",
    "model.compile(optimizer=Adam(learning_rate=0.001),\n",
    "              loss='binary_crossentropy',\n",
    "              metrics=['accuracy'])"
   ]
  },
  {
   "cell_type": "code",
   "execution_count": 28,
   "id": "86e2835b-4742-454f-ab31-b66ed72cf3e2",
   "metadata": {},
   "outputs": [
    {
     "name": "stdout",
     "output_type": "stream",
     "text": [
      "Epoch 1/20\n",
      "\u001b[1m3460/3460\u001b[0m \u001b[32m━━━━━━━━━━━━━━━━━━━━\u001b[0m\u001b[37m\u001b[0m \u001b[1m11s\u001b[0m 3ms/step - accuracy: 0.8594 - loss: 0.3328 - val_accuracy: 0.9385 - val_loss: 0.1951\n",
      "Epoch 2/20\n",
      "\u001b[1m3460/3460\u001b[0m \u001b[32m━━━━━━━━━━━━━━━━━━━━\u001b[0m\u001b[37m\u001b[0m \u001b[1m7s\u001b[0m 2ms/step - accuracy: 0.9066 - loss: 0.2284 - val_accuracy: 0.9476 - val_loss: 0.1550\n",
      "Epoch 3/20\n",
      "\u001b[1m3460/3460\u001b[0m \u001b[32m━━━━━━━━━━━━━━━━━━━━\u001b[0m\u001b[37m\u001b[0m \u001b[1m7s\u001b[0m 2ms/step - accuracy: 0.9181 - loss: 0.2017 - val_accuracy: 0.9513 - val_loss: 0.1407\n",
      "Epoch 4/20\n",
      "\u001b[1m3460/3460\u001b[0m \u001b[32m━━━━━━━━━━━━━━━━━━━━\u001b[0m\u001b[37m\u001b[0m \u001b[1m6s\u001b[0m 2ms/step - accuracy: 0.9246 - loss: 0.1881 - val_accuracy: 0.9579 - val_loss: 0.1274\n",
      "Epoch 5/20\n",
      "\u001b[1m3460/3460\u001b[0m \u001b[32m━━━━━━━━━━━━━━━━━━━━\u001b[0m\u001b[37m\u001b[0m \u001b[1m7s\u001b[0m 2ms/step - accuracy: 0.9275 - loss: 0.1801 - val_accuracy: 0.9581 - val_loss: 0.1237\n",
      "Epoch 6/20\n",
      "\u001b[1m3460/3460\u001b[0m \u001b[32m━━━━━━━━━━━━━━━━━━━━\u001b[0m\u001b[37m\u001b[0m \u001b[1m6s\u001b[0m 2ms/step - accuracy: 0.9296 - loss: 0.1765 - val_accuracy: 0.9620 - val_loss: 0.1136\n",
      "Epoch 7/20\n",
      "\u001b[1m3460/3460\u001b[0m \u001b[32m━━━━━━━━━━━━━━━━━━━━\u001b[0m\u001b[37m\u001b[0m \u001b[1m6s\u001b[0m 2ms/step - accuracy: 0.9318 - loss: 0.1710 - val_accuracy: 0.9608 - val_loss: 0.1161\n",
      "Epoch 8/20\n",
      "\u001b[1m3460/3460\u001b[0m \u001b[32m━━━━━━━━━━━━━━━━━━━━\u001b[0m\u001b[37m\u001b[0m \u001b[1m6s\u001b[0m 2ms/step - accuracy: 0.9327 - loss: 0.1687 - val_accuracy: 0.9631 - val_loss: 0.1101\n",
      "Epoch 9/20\n",
      "\u001b[1m3460/3460\u001b[0m \u001b[32m━━━━━━━━━━━━━━━━━━━━\u001b[0m\u001b[37m\u001b[0m \u001b[1m6s\u001b[0m 2ms/step - accuracy: 0.9346 - loss: 0.1646 - val_accuracy: 0.9621 - val_loss: 0.1090\n",
      "Epoch 10/20\n",
      "\u001b[1m3460/3460\u001b[0m \u001b[32m━━━━━━━━━━━━━━━━━━━━\u001b[0m\u001b[37m\u001b[0m \u001b[1m8s\u001b[0m 2ms/step - accuracy: 0.9347 - loss: 0.1642 - val_accuracy: 0.9594 - val_loss: 0.1157\n",
      "Epoch 11/20\n",
      "\u001b[1m3460/3460\u001b[0m \u001b[32m━━━━━━━━━━━━━━━━━━━━\u001b[0m\u001b[37m\u001b[0m \u001b[1m6s\u001b[0m 2ms/step - accuracy: 0.9356 - loss: 0.1630 - val_accuracy: 0.9600 - val_loss: 0.1128\n",
      "Epoch 12/20\n",
      "\u001b[1m3460/3460\u001b[0m \u001b[32m━━━━━━━━━━━━━━━━━━━━\u001b[0m\u001b[37m\u001b[0m \u001b[1m6s\u001b[0m 2ms/step - accuracy: 0.9359 - loss: 0.1621 - val_accuracy: 0.9633 - val_loss: 0.1071\n",
      "Epoch 13/20\n",
      "\u001b[1m3460/3460\u001b[0m \u001b[32m━━━━━━━━━━━━━━━━━━━━\u001b[0m\u001b[37m\u001b[0m \u001b[1m7s\u001b[0m 2ms/step - accuracy: 0.9364 - loss: 0.1614 - val_accuracy: 0.9622 - val_loss: 0.1117\n",
      "Epoch 14/20\n",
      "\u001b[1m3460/3460\u001b[0m \u001b[32m━━━━━━━━━━━━━━━━━━━━\u001b[0m\u001b[37m\u001b[0m \u001b[1m7s\u001b[0m 2ms/step - accuracy: 0.9370 - loss: 0.1596 - val_accuracy: 0.9627 - val_loss: 0.1098\n",
      "Epoch 15/20\n",
      "\u001b[1m3460/3460\u001b[0m \u001b[32m━━━━━━━━━━━━━━━━━━━━\u001b[0m\u001b[37m\u001b[0m \u001b[1m7s\u001b[0m 2ms/step - accuracy: 0.9372 - loss: 0.1582 - val_accuracy: 0.9651 - val_loss: 0.1005\n",
      "Epoch 16/20\n",
      "\u001b[1m3460/3460\u001b[0m \u001b[32m━━━━━━━━━━━━━━━━━━━━\u001b[0m\u001b[37m\u001b[0m \u001b[1m6s\u001b[0m 2ms/step - accuracy: 0.9375 - loss: 0.1585 - val_accuracy: 0.9600 - val_loss: 0.1160\n",
      "Epoch 17/20\n",
      "\u001b[1m3460/3460\u001b[0m \u001b[32m━━━━━━━━━━━━━━━━━━━━\u001b[0m\u001b[37m\u001b[0m \u001b[1m7s\u001b[0m 2ms/step - accuracy: 0.9377 - loss: 0.1580 - val_accuracy: 0.9633 - val_loss: 0.1082\n",
      "Epoch 18/20\n",
      "\u001b[1m3460/3460\u001b[0m \u001b[32m━━━━━━━━━━━━━━━━━━━━\u001b[0m\u001b[37m\u001b[0m \u001b[1m7s\u001b[0m 2ms/step - accuracy: 0.9375 - loss: 0.1573 - val_accuracy: 0.9639 - val_loss: 0.1058\n",
      "Epoch 19/20\n",
      "\u001b[1m3460/3460\u001b[0m \u001b[32m━━━━━━━━━━━━━━━━━━━━\u001b[0m\u001b[37m\u001b[0m \u001b[1m6s\u001b[0m 2ms/step - accuracy: 0.9385 - loss: 0.1574 - val_accuracy: 0.9637 - val_loss: 0.1079\n",
      "Epoch 20/20\n",
      "\u001b[1m3460/3460\u001b[0m \u001b[32m━━━━━━━━━━━━━━━━━━━━\u001b[0m\u001b[37m\u001b[0m \u001b[1m8s\u001b[0m 2ms/step - accuracy: 0.9386 - loss: 0.1567 - val_accuracy: 0.9652 - val_loss: 0.1024\n"
     ]
    }
   ],
   "source": [
    "history = model.fit(X_train_scaled, y_train_resampled,\n",
    "                    validation_data=(X_test_scaled, y_test),\n",
    "                    epochs=20,\n",
    "                    batch_size=256,\n",
    "                    verbose=1)"
   ]
  },
  {
   "cell_type": "code",
   "execution_count": 29,
   "id": "0605c21d-f65a-4723-a3d2-c93393702a87",
   "metadata": {},
   "outputs": [
    {
     "name": "stdout",
     "output_type": "stream",
     "text": [
      "\u001b[1m3474/3474\u001b[0m \u001b[32m━━━━━━━━━━━━━━━━━━━━\u001b[0m\u001b[37m\u001b[0m \u001b[1m2s\u001b[0m 552us/step\n",
      "[[108163   2555]\n",
      " [    74    352]]\n",
      "              precision    recall  f1-score   support\n",
      "\n",
      "           0       1.00      0.98      0.99    110718\n",
      "           1       0.12      0.83      0.21       426\n",
      "\n",
      "    accuracy                           0.98    111144\n",
      "   macro avg       0.56      0.90      0.60    111144\n",
      "weighted avg       1.00      0.98      0.99    111144\n",
      "\n",
      "AUC: 0.964956629230273\n"
     ]
    }
   ],
   "source": [
    "from sklearn.metrics import classification_report, confusion_matrix, roc_auc_score\n",
    "\n",
    "y_pred_proba = model.predict(X_test_scaled).ravel()\n",
    "y_pred_nn = (y_pred_proba >= 0.6).astype(int)\n",
    "\n",
    "print(confusion_matrix(y_test, y_pred_nn))\n",
    "print(classification_report(y_test, y_pred_nn))\n",
    "print(\"AUC:\", roc_auc_score(y_test, y_pred_proba))"
   ]
  },
  {
   "cell_type": "code",
   "execution_count": 30,
   "id": "c0a43580-2a78-469b-986e-b522238ae9ac",
   "metadata": {},
   "outputs": [
    {
     "data": {
      "image/png": "[encoded data removed]",
      "text/plain": [
       "<Figure size 640x480 with 2 Axes>"
      ]
     },
     "metadata": {},
     "output_type": "display_data"
    }
   ],
   "source": [
    "# Confusion Matrix\n",
    "import seaborn as sns\n",
    "import matplotlib.pyplot as plt\n",
    "\n",
    "cm = confusion_matrix(y_test, y_pred_nn)\n",
    "sns.heatmap(cm, annot=True, fmt='d', cmap='RdBu')\n",
    "plt.xlabel('Predicted')\n",
    "plt.ylabel('Actual')\n",
    "plt.show()"
   ]
  },
  {
   "cell_type": "code",
   "execution_count": 59,
   "id": "01c7fecb-1221-4a5c-adf6-efa4923d2eb0",
   "metadata": {},
   "outputs": [
    {
     "data": {
      "image/png": "[encoded data removed]",
      "text/plain": [
       "<Figure size 600x500 with 1 Axes>"
      ]
     },
     "metadata": {},
     "output_type": "display_data"
    }
   ],
   "source": [
    "from sklearn.metrics import roc_curve\n",
    "\n",
    "# Compute FPR, TPR for ROC curve\n",
    "fpr, tpr, thresholds = roc_curve(y_test, y_pred_proba)\n",
    "auc_score = roc_auc_score(y_test, y_pred_proba)\n",
    "\n",
    "# Plot\n",
    "plt.figure(figsize=(6,5))\n",
    "plt.plot(fpr, tpr, label=f'AUC = {auc_score:.4f}', color='darkorange', linewidth=2)\n",
    "plt.plot([0, 1], [0, 1], linestyle='--', color='gray')  # Diagonal line\n",
    "plt.xlabel('False Positive Rate')\n",
    "plt.ylabel('True Positive Rate')\n",
    "plt.title('ROC Curve for NN')\n",
    "plt.legend(loc='lower right')\n",
    "plt.grid(True)\n",
    "plt.tight_layout()\n",
    "plt.show()"
   ]
  }
 ],
 "metadata": {
  "kernelspec": {
   "display_name": "Python [conda env:base] *",
   "language": "python",
   "name": "conda-base-py"
  },
  "language_info": {
   "codemirror_mode": {
    "name": "ipython",
    "version": 3
   },
   "file_extension": ".py",
   "mimetype": "text/x-python",
   "name": "python",
   "nbconvert_exporter": "python",
   "pygments_lexer": "ipython3",
   "version": "3.10.16"
  }
 },
 "nbformat": 4,
 "nbformat_minor": 5
}
